{
 "cells": [
  {
   "cell_type": "code",
   "execution_count": 2,
   "metadata": {},
   "outputs": [
    {
     "name": "stdout",
     "output_type": "stream",
     "text": [
      "[16, 6, 16, 16, 16, 5, 16, 3, 0, 1, 16, 16, 16, 2, 4, 16]\n",
      "16\n"
     ]
    }
   ],
   "source": [
    "import struct\n",
    "\n",
    "def load_vector_from_file(filename):\n",
    "    with open(filename, 'rb') as file:\n",
    "        # Read the size of the vector (stored as size_t in C++, which is platform-dependent)\n",
    "        size_data = file.read(struct.calcsize('P'))  \n",
    "        size = struct.unpack('P', size_data)[0]\n",
    "        \n",
    "        # Read the rest of the data as uint64_t values\n",
    "        vector_data = file.read(size * struct.calcsize('Q')) \n",
    "        vector = struct.unpack(f'{size}Q', vector_data)\n",
    "        \n",
    "        return list(vector)\n",
    "\n",
    "# Example usage\n",
    "filename = 'w10_k4.bin'\n",
    "vector = load_vector_from_file(filename)\n",
    "print(vector)\n",
    "print(len(vector))\n"
   ]
  }
 ],
 "metadata": {
  "kernelspec": {
   "display_name": "Python 3",
   "language": "python",
   "name": "python3"
  },
  "language_info": {
   "codemirror_mode": {
    "name": "ipython",
    "version": 3
   },
   "file_extension": ".py",
   "mimetype": "text/x-python",
   "name": "python",
   "nbconvert_exporter": "python",
   "pygments_lexer": "ipython3",
   "version": "3.11.4"
  }
 },
 "nbformat": 4,
 "nbformat_minor": 2
}
