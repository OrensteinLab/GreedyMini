{
 "cells": [
  {
   "cell_type": "code",
   "execution_count": 2,
   "metadata": {},
   "outputs": [],
   "source": [
    "path = 'log_2.txt'\n",
    "output_path = 'edited_log_2.txt'"
   ]
  },
  {
   "cell_type": "code",
   "execution_count": null,
   "metadata": {},
   "outputs": [],
   "source": [
    "text_in_file = []\n",
    "with open(path, 'r') as file:\n",
    "    text_in_file = file.readlines()\n",
    "\n",
    "\n",
    "# from each line take only the last word\n",
    "text_in_file = [line.split()[-1] for line in text_in_file]\n",
    "\n",
    "# add ',' to the end of each line and join them with new lines\n",
    "text_in_file = [line + ',' for line in text_in_file]\n",
    "text_in_file = '\\n'.join(text_in_file)\n",
    "\n",
    "print(text_in_file)\n",
    "\n",
    "with open(output_path, 'w') as file:\n",
    "    file.write(text_in_file)\n"
   ]
  }
 ],
 "metadata": {
  "kernelspec": {
   "display_name": "Python 3",
   "language": "python",
   "name": "python3"
  },
  "language_info": {
   "codemirror_mode": {
    "name": "ipython",
    "version": 3
   },
   "file_extension": ".py",
   "mimetype": "text/x-python",
   "name": "python",
   "nbconvert_exporter": "python",
   "pygments_lexer": "ipython3",
   "version": "3.11.4"
  }
 },
 "nbformat": 4,
 "nbformat_minor": 2
}
