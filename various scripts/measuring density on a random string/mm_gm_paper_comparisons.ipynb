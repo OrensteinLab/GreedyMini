{
 "cells": [
  {
   "cell_type": "code",
   "execution_count": 1,
   "metadata": {},
   "outputs": [],
   "source": [
    "import math\n",
    "import random\n",
    "import cmath\n",
    "import math\n",
    "import numpy as np\n",
    "from collections import deque\n",
    "import hashlib\n",
    "import struct\n",
    "import os \n"
   ]
  },
  {
   "cell_type": "code",
   "execution_count": 2,
   "metadata": {},
   "outputs": [],
   "source": [
    "\n",
    "\n",
    "def load_vector_from_file(filename):\n",
    "    with open(filename, 'rb') as file:\n",
    "        # Read the size of the vector (stored as size_t in C++, which is platform-dependent)\n",
    "        size_data = file.read(struct.calcsize('P'))  \n",
    "        size = struct.unpack('P', size_data)[0]\n",
    "        \n",
    "        # Read the rest of the data as uint64_t values\n",
    "        vector_data = file.read(size * struct.calcsize('Q')) \n",
    "        vector = struct.unpack(f'{size}Q', vector_data)\n",
    "        \n",
    "        return list(vector)"
   ]
  },
  {
   "cell_type": "code",
   "execution_count": 3,
   "metadata": {},
   "outputs": [],
   "source": [
    "def does_gm_minimizer_exists(w, k):\n",
    "    return os.path.exists(f'gm orders/w{w}_k{k}.bin')\n",
    "\n",
    "def get_gm_minimizer_dna_lex(w,k):\n",
    "    # Load order\n",
    "    order = load_vector_from_file(f'gm orders/w{w}_k{k}.bin')\n",
    "\n",
    "    # get max value\n",
    "    max_value = 2**k\n",
    "    rank = max_value\n",
    "    for i in range(len(order)):\n",
    "        if order[i] == max_value:\n",
    "            order[i] = rank\n",
    "            rank += 1\n",
    "        \n",
    "\n",
    "\n",
    "\n",
    "    def optimal_minimizer_dna(kmer, w, k, seed):\n",
    "        original_kmer = kmer  # Save the original kmer for printing\n",
    "        odd_bits = 0\n",
    "        even_bits = 0\n",
    "        bit_position = 0\n",
    "\n",
    "        for position in range (2*k):\n",
    "            current_bit = kmer & 1\n",
    "            if position % 2 == 0:\n",
    "                even_bits = (current_bit << (position//2)) | even_bits\n",
    "            else:\n",
    "                odd_bits = (current_bit << (position//2)) | odd_bits\n",
    "            kmer >>= 1\n",
    "\n",
    "        odd_bits_shifted = odd_bits \n",
    "        return ((order[odd_bits_shifted] * 2**k)+ even_bits)\n",
    "\n",
    "    return optimal_minimizer_dna"
   ]
  },
  {
   "cell_type": "code",
   "execution_count": 4,
   "metadata": {},
   "outputs": [],
   "source": [
    "def random_density_function_mod_minimizer_dna(w, k, function, n_samples=10000, seed = 1, r = 4):\n",
    "\n",
    "    t = r + ((k-r) % w)\n",
    "\n",
    "    t_mask = (1 << (2*t)) - 1\n",
    "\n",
    "    tmer = 0\n",
    "    rank_window = deque()\n",
    "\n",
    "    max_rank_widow_size = w + k -t\n",
    "    last_sampled_pos = 0\n",
    "\n",
    "\n",
    "    # generate initial random kmer\n",
    "    for _ in range(k):\n",
    "        bits = random.getrandbits(2)\n",
    "        tmer = ((tmer << 2) | bits) & t_mask\n",
    "    \n",
    "    # generate initial rank window\n",
    "    for _ in range(max_rank_widow_size):\n",
    "        next_bits = random.getrandbits(2)\n",
    "        tmer = ((tmer << 2) | next_bits) & t_mask\n",
    "        rank = function(tmer, w+k-t, t, seed)\n",
    "        rank_window.append(rank)\n",
    "\n",
    "    # iterate over all samples\n",
    "    sampled_positions = 0\n",
    "    for _ in range(0, n_samples):\n",
    "\n",
    "        # update rank widow\n",
    "        rank_window.popleft()\n",
    "        next_bits = random.getrandbits(2)\n",
    "        tmer = ((tmer << 2) | next_bits) & t_mask\n",
    "        suffix_rank = function(tmer, w+k-t, t,seed)\n",
    "        rank_window.append(suffix_rank)\n",
    "\n",
    "        # Get new sampled position\n",
    "        sampled_pos = rank_window.index(min(rank_window))\n",
    "        sampled_pos = sampled_pos % w\n",
    "\n",
    "        # position sampled last is now 1 behind\n",
    "        last_sampled_pos -= 1\n",
    "\n",
    "        # check if sampled a new position\n",
    "        if sampled_pos != last_sampled_pos:\n",
    "            sampled_positions += 1\n",
    "            last_sampled_pos = sampled_pos\n",
    "\n",
    "\n",
    "    total_number_of_kmers = n_samples + w -1 #first sample has w kmers\n",
    "    density = sampled_positions / total_number_of_kmers\n",
    "    return density"
   ]
  },
  {
   "cell_type": "code",
   "execution_count": 5,
   "metadata": {},
   "outputs": [],
   "source": [
    "def mm_gm_density_dna(w,k,n_samples):\n",
    "    r = 4\n",
    "    t = r + ((k - r) % w)  # t calculated based on k and w\n",
    "    w_adjusted = w + k - t\n",
    "    w_adjusted = min(w_adjusted,15)\n",
    "    if does_gm_minimizer_exists(w_adjusted, t):\n",
    "        density = random_density_function_mod_minimizer_dna(\n",
    "            w=w, k=k, function=get_gm_minimizer_dna_lex(w_adjusted, t), n_samples=n_samples, seed=0, r=r)\n",
    "        return density\n",
    "    else:\n",
    "        return np.nan"
   ]
  },
  {
   "cell_type": "markdown",
   "metadata": {},
   "source": [
    "Kraken"
   ]
  },
  {
   "cell_type": "code",
   "execution_count": 6,
   "metadata": {},
   "outputs": [
    {
     "data": {
      "text/plain": [
       "0.0880359142537194"
      ]
     },
     "execution_count": 6,
     "metadata": {},
     "output_type": "execute_result"
    }
   ],
   "source": [
    "w = 17\n",
    "k = 15\n",
    "\n",
    "\n",
    "mm_gm_density_dna(w, k, 100000)\n",
    "\n",
    "# can try generate a minimizer for k = 15 w= 17"
   ]
  },
  {
   "cell_type": "markdown",
   "metadata": {},
   "source": [
    "Kraken 2"
   ]
  },
  {
   "cell_type": "code",
   "execution_count": 7,
   "metadata": {},
   "outputs": [
    {
     "data": {
      "text/plain": [
       "0.22231110755569777"
      ]
     },
     "execution_count": 7,
     "metadata": {},
     "output_type": "execute_result"
    }
   ],
   "source": [
    "w = 5\n",
    "k = 31\n",
    "\n",
    "mm_gm_density_dna(w,k, 100000)"
   ]
  },
  {
   "cell_type": "markdown",
   "metadata": {},
   "source": [
    "KMC2"
   ]
  },
  {
   "cell_type": "code",
   "execution_count": 8,
   "metadata": {},
   "outputs": [
    {
     "data": {
      "text/plain": [
       "0.07382449685566031"
      ]
     },
     "execution_count": 8,
     "metadata": {},
     "output_type": "execute_result"
    }
   ],
   "source": [
    "w = 22\n",
    "k = 7\n",
    "mm_gm_density_dna(w, k, 100000)"
   ]
  },
  {
   "cell_type": "code",
   "execution_count": 9,
   "metadata": {},
   "outputs": [
    {
     "data": {
      "text/plain": [
       "0.036172637134175595"
      ]
     },
     "execution_count": 9,
     "metadata": {},
     "output_type": "execute_result"
    }
   ],
   "source": [
    "w = 49\n",
    "k = 7\n",
    "mm_gm_density_dna(w, k, 100000)"
   ]
  },
  {
   "cell_type": "markdown",
   "metadata": {},
   "source": [
    "KMC3"
   ]
  },
  {
   "cell_type": "code",
   "execution_count": 10,
   "metadata": {},
   "outputs": [
    {
     "data": {
      "text/plain": [
       "0.09554566814977754"
      ]
     },
     "execution_count": 10,
     "metadata": {},
     "output_type": "execute_result"
    }
   ],
   "source": [
    "w = 16\n",
    "k = 9\n",
    "mm_gm_density_dna(w, k, 100000)"
   ]
  },
  {
   "cell_type": "markdown",
   "metadata": {},
   "source": [
    "SSHash"
   ]
  },
  {
   "cell_type": "code",
   "execution_count": 11,
   "metadata": {},
   "outputs": [
    {
     "data": {
      "text/plain": [
       "0.12005799420057994"
      ]
     },
     "execution_count": 11,
     "metadata": {},
     "output_type": "execute_result"
    }
   ],
   "source": [
    "w = 11\n",
    "k = 21\n",
    "\n",
    "mm_gm_density_dna(w,k, 100000)"
   ]
  },
  {
   "cell_type": "markdown",
   "metadata": {},
   "source": [
    "Minimap1/2 / MetaProb2"
   ]
  },
  {
   "cell_type": "code",
   "execution_count": 12,
   "metadata": {},
   "outputs": [
    {
     "data": {
      "text/plain": [
       "0.13275880517075347"
      ]
     },
     "execution_count": 12,
     "metadata": {},
     "output_type": "execute_result"
    }
   ],
   "source": [
    "w = 10\n",
    "k = 15\n",
    "mm_gm_density_dna(w, k, 1000000)"
   ]
  },
  {
   "cell_type": "markdown",
   "metadata": {},
   "source": [
    "Giraffe"
   ]
  },
  {
   "cell_type": "code",
   "execution_count": 13,
   "metadata": {},
   "outputs": [
    {
     "data": {
      "text/plain": [
       "0.11226877312268774"
      ]
     },
     "execution_count": 13,
     "metadata": {},
     "output_type": "execute_result"
    }
   ],
   "source": [
    "w = 11\n",
    "k = 29\n",
    "\n",
    "mm_gm_density_dna(w,k, 100000)"
   ]
  },
  {
   "cell_type": "markdown",
   "metadata": {},
   "source": [
    "GraphAligner"
   ]
  },
  {
   "cell_type": "code",
   "execution_count": 17,
   "metadata": {},
   "outputs": [
    {
     "data": {
      "text/plain": [
       "nan"
      ]
     },
     "execution_count": 17,
     "metadata": {},
     "output_type": "execute_result"
    }
   ],
   "source": [
    "w = 30\n",
    "k = 19\n",
    "\n",
    "mm_gm_density_dna(w,k, 100000)"
   ]
  }
 ],
 "metadata": {
  "kernelspec": {
   "display_name": "Python 3",
   "language": "python",
   "name": "python3"
  },
  "language_info": {
   "codemirror_mode": {
    "name": "ipython",
    "version": 3
   },
   "file_extension": ".py",
   "mimetype": "text/x-python",
   "name": "python",
   "nbconvert_exporter": "python",
   "pygments_lexer": "ipython3",
   "version": "3.11.4"
  }
 },
 "nbformat": 4,
 "nbformat_minor": 2
}
