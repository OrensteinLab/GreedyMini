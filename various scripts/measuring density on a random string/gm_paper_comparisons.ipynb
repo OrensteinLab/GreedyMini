{
 "cells": [
  {
   "cell_type": "code",
   "execution_count": 2,
   "metadata": {},
   "outputs": [],
   "source": [
    "import math\n",
    "import random\n",
    "import cmath\n",
    "import math\n",
    "import numpy as np\n",
    "from collections import deque\n",
    "import hashlib\n",
    "import struct"
   ]
  },
  {
   "cell_type": "code",
   "execution_count": null,
   "metadata": {},
   "outputs": [],
   "source": [
    "def load_vector_from_file(filename):\n",
    "    with open(filename, 'rb') as file:\n",
    "        # Read the size of the vector (stored as size_t in C++, which is platform-dependent)\n",
    "        size_data = file.read(struct.calcsize('P'))  \n",
    "        size = struct.unpack('P', size_data)[0]\n",
    "        \n",
    "        # Read the rest of the data as uint64_t values\n",
    "        vector_data = file.read(size * struct.calcsize('Q')) \n",
    "        vector = struct.unpack(f'{size}Q', vector_data)\n",
    "        \n",
    "        return list(vector)"
   ]
  },
  {
   "cell_type": "code",
   "execution_count": null,
   "metadata": {},
   "outputs": [],
   "source": [
    "def random_density_function_dna(w, k, function, n_samples=10000, seed = 1):\n",
    "    sampled_positions = 0\n",
    "    k_mask = (1 << (2 * k)) - 1  # Mask for k nucleotides (2 bits per nucleotide)\n",
    "\n",
    "    total_nucleotides = n_samples + w + k - 1  # Total number of nucleotides needed\n",
    "    random_nucleotides = [random.getrandbits(2) for _ in range(total_nucleotides)]  # Generate random nucleotides\n",
    "\n",
    "    kmer = 0\n",
    "    rank_window = deque()\n",
    "    last_sampled_pos = 0\n",
    "\n",
    "    # Initialize the rank window with the first w k-mers\n",
    "    for pos in range(w + k - 1):\n",
    "        nucleotide = random_nucleotides[pos]  # Get the next nucleotide (2 bits)\n",
    "        kmer = ((kmer << 2) | nucleotide) & k_mask  # Shift and add nucleotide, mask to keep 2k bits\n",
    "        if pos >= k - 1:\n",
    "            rank = function(kmer, w, k, seed)\n",
    "            rank_window.append(rank)\n",
    "\n",
    "    # Main loop to process samples\n",
    "    for sample_idx in range(n_samples):\n",
    "        rank_window.popleft()\n",
    "\n",
    "        next_nucleotide = random_nucleotides[w + k - 1 + sample_idx]\n",
    "        kmer = ((kmer << 2) | next_nucleotide) & k_mask\n",
    "        suffix_rank = function(kmer, w, k, seed)\n",
    "        rank_window.append(suffix_rank)\n",
    "\n",
    "        # Update the last sampled position\n",
    "        last_sampled_pos -= 1\n",
    "\n",
    "        # Find the position with the minimum rank\n",
    "        sampled_pos = rank_window.index(min(rank_window))\n",
    "\n",
    "        if sampled_pos != last_sampled_pos:\n",
    "            sampled_positions += 1\n",
    "            last_sampled_pos = sampled_pos\n",
    "\n",
    "    total_number_of_kmers = n_samples + w - 1  # Total k-mers processed\n",
    "    density = sampled_positions / total_number_of_kmers\n",
    "    return density\n",
    "\n",
    "# extended from t to k\n",
    "def random_density_function_dna_extended(w, t, k, function, n_samples=10000, seed = 1):\n",
    "    sampled_positions = 0\n",
    "    k_mask = (1 << (2 * k)) - 1  # Mask for k nucleotides (2 bits per nucleotide)\n",
    "\n",
    "    total_nucleotides = n_samples + w + k - 1  # Total number of nucleotides needed\n",
    "    random_nucleotides = [random.getrandbits(2) for _ in range(total_nucleotides)]  # Generate random nucleotides\n",
    "\n",
    "    kmer = 0\n",
    "    rank_window = deque()\n",
    "    last_sampled_pos = 0\n",
    "\n",
    "    # Initialize the rank window with the first w k-mers\n",
    "    for pos in range(w + k - 1):\n",
    "        nucleotide = random_nucleotides[pos]  # Get the next nucleotide (2 bits)\n",
    "        kmer = ((kmer << 2) | nucleotide) & k_mask  # Shift and add nucleotide, mask to keep 2k bits\n",
    "        if pos >= k - 1:\n",
    "            # get first t bits of kmer\n",
    "            tmer = kmer >> (2*k-t)\n",
    "            # get the other bits\n",
    "            rest = kmer & ((1 << (2*k-t)) - 1)\n",
    "            rank = function(tmer, w, t, seed) << (2*k-t) | rest\n",
    "            rank_window.append(rank)\n",
    "\n",
    "    # Main loop to process samples\n",
    "    for sample_idx in range(n_samples):\n",
    "        rank_window.popleft()\n",
    "\n",
    "        next_nucleotide = random_nucleotides[w + k - 1 + sample_idx]\n",
    "        kmer = ((kmer << 2) | next_nucleotide) & k_mask\n",
    "        tmer=  kmer >> (2*k-t)\n",
    "        rest = kmer & ((1 << (2*k-t)) - 1)\n",
    "        suffix_rank = function(tmer, w, t, seed) << (2*k-t) | rest\n",
    "        rank_window.append(suffix_rank)\n",
    "\n",
    "        # Update the last sampled position\n",
    "        last_sampled_pos -= 1\n",
    "\n",
    "        # Find the position with the minimum rank\n",
    "        sampled_pos = rank_window.index(min(rank_window))\n",
    "\n",
    "        if sampled_pos != last_sampled_pos:\n",
    "            sampled_positions += 1\n",
    "            last_sampled_pos = sampled_pos\n",
    "\n",
    "    total_number_of_kmers = n_samples + w - 1  # Total k-mers processed\n",
    "    density = sampled_positions / total_number_of_kmers\n",
    "    return density\n"
   ]
  },
  {
   "cell_type": "code",
   "execution_count": null,
   "metadata": {},
   "outputs": [],
   "source": [
    "def get_gm_minimizer_dna_lex(w,k):\n",
    "    # Load order\n",
    "    order = load_vector_from_file(f'gm orders/w{w}_k{k}.bin')\n",
    "\n",
    "    # get max value\n",
    "    max_value = 2**k\n",
    "    rank = max_value\n",
    "    for i in range(len(order)):\n",
    "        if order[i] == max_value:\n",
    "            order[i] = rank\n",
    "            rank += 1\n",
    "        \n",
    "\n",
    "\n",
    "\n",
    "    def gm_minimizer_dna(kmer, w, k, seed):\n",
    "        original_kmer = kmer  # Save the original kmer for printing\n",
    "        odd_bits = 0\n",
    "        even_bits = 0\n",
    "        bit_position = 0\n",
    "\n",
    "        for position in range (2*k):\n",
    "            current_bit = kmer & 1\n",
    "            if position % 2 == 0:\n",
    "                even_bits = (current_bit << (position//2)) | even_bits\n",
    "            else:\n",
    "                odd_bits = (current_bit << (position//2)) | odd_bits\n",
    "            kmer >>= 1\n",
    "\n",
    "        odd_bits_shifted = odd_bits \n",
    "        return ((order[odd_bits_shifted] * 2**k)+ even_bits)\n",
    "\n",
    "    return gm_minimizer_dna\n",
    "\n",
    "# Loads t but is a minimizer over k \n",
    "def get_gm_minimizer_dna_lex_extended(w,t, k):\n",
    "    # Load order\n",
    "    order = load_vector_from_file(f'gm orders/w{w}_k{t}.bin')\n",
    "\n",
    "    # get max value\n",
    "    max_value = 2**t\n",
    "    rank = max_value\n",
    "    for i in range(len(order)):\n",
    "        if order[i] == max_value:\n",
    "            order[i] = rank\n",
    "            rank += 1\n",
    "\n",
    "    tmer_mask = (1 << t) - 1\n",
    "    rest_mask = (1 << (k-t)) - 1\n",
    "        \n",
    "\n",
    "\n",
    "\n",
    "    def gm_minimizer_dna(kmer, w, k, seed):\n",
    "        odd_bits = 0\n",
    "        even_bits = 0\n",
    "\n",
    "        for position in range (2*k):\n",
    "            current_bit = kmer & 1\n",
    "            if position % 2 == 0:\n",
    "                even_bits = (current_bit << (position//2)) | even_bits\n",
    "            else:\n",
    "                odd_bits = (current_bit << (position//2)) | odd_bits\n",
    "            kmer >>= 1\n",
    "\n",
    "\n",
    "        tmer = (odd_bits >> (k-t)) & tmer_mask\n",
    "        rest_mer = odd_bits & rest_mask\n",
    "\n",
    "        main_rank = order[tmer] << (k-t)\n",
    "        main_rank + rest_mer\n",
    "\n",
    "        main_rank_shifted = main_rank << k\n",
    "\n",
    "\n",
    "        \n",
    "        return (main_rank_shifted+ even_bits)\n",
    "\n",
    "    return gm_minimizer_dna"
   ]
  },
  {
   "cell_type": "markdown",
   "metadata": {},
   "source": [
    "Kraken"
   ]
  },
  {
   "cell_type": "code",
   "execution_count": 2,
   "metadata": {},
   "outputs": [
    {
     "data": {
      "text/plain": [
       "0.08771959648645622"
      ]
     },
     "execution_count": 2,
     "metadata": {},
     "output_type": "execute_result"
    }
   ],
   "source": [
    "w = 17\n",
    "k = 15\n",
    "gm_order = get_gm_minimizer_dna_lex(w, k)\n",
    "random_density_function_dna(w, k, gm_order, 1000000)\n",
    "\n",
    "# can try generate a minimizer for k = 15 w= 17"
   ]
  },
  {
   "cell_type": "markdown",
   "metadata": {},
   "source": [
    "Kraken 2"
   ]
  },
  {
   "cell_type": "code",
   "execution_count": 3,
   "metadata": {},
   "outputs": [
    {
     "data": {
      "text/plain": [
       "0.2438002479900804"
      ]
     },
     "execution_count": 3,
     "metadata": {},
     "output_type": "execute_result"
    }
   ],
   "source": [
    "w = 5\n",
    "k = 31\n",
    "t = 15\n",
    "\n",
    "gm_order = get_gm_minimizer_dna_lex_extended(w,t,k)\n",
    "random_density_function_dna(w,k, gm_order, 100000, 1)"
   ]
  },
  {
   "cell_type": "markdown",
   "metadata": {},
   "source": [
    "KMC2"
   ]
  },
  {
   "cell_type": "code",
   "execution_count": 4,
   "metadata": {},
   "outputs": [
    {
     "data": {
      "text/plain": [
       "0.07370452205036943"
      ]
     },
     "execution_count": 4,
     "metadata": {},
     "output_type": "execute_result"
    }
   ],
   "source": [
    "prev_w = 15\n",
    "w = 22\n",
    "k = 7\n",
    "gm_order = get_gm_minimizer_dna_lex(prev_w, k)\n",
    "random_density_function_dna(w, k, gm_order, 100000)"
   ]
  },
  {
   "cell_type": "code",
   "execution_count": 5,
   "metadata": {},
   "outputs": [
    {
     "data": {
      "text/plain": [
       "0.03663241644010875"
      ]
     },
     "execution_count": 5,
     "metadata": {},
     "output_type": "execute_result"
    }
   ],
   "source": [
    "prev_w = 15\n",
    "w = 49\n",
    "k = 7\n",
    "gm_order = get_gm_minimizer_dna_lex(prev_w, k)\n",
    "random_density_function_dna(w, k, gm_order, 100000)"
   ]
  },
  {
   "cell_type": "markdown",
   "metadata": {},
   "source": [
    "KMC3"
   ]
  },
  {
   "cell_type": "code",
   "execution_count": 6,
   "metadata": {},
   "outputs": [
    {
     "data": {
      "text/plain": [
       "0.09541568764685297"
      ]
     },
     "execution_count": 6,
     "metadata": {},
     "output_type": "execute_result"
    }
   ],
   "source": [
    "prev_w = 15\n",
    "w = 16\n",
    "k = 9\n",
    "gm_order = get_gm_minimizer_dna_lex(prev_w, k)\n",
    "random_density_function_dna(w, k, gm_order, 100000)"
   ]
  },
  {
   "cell_type": "markdown",
   "metadata": {},
   "source": [
    "SSHash"
   ]
  },
  {
   "cell_type": "code",
   "execution_count": 3,
   "metadata": {},
   "outputs": [
    {
     "data": {
      "text/plain": [
       "0.12545745425457455"
      ]
     },
     "execution_count": 3,
     "metadata": {},
     "output_type": "execute_result"
    }
   ],
   "source": [
    "w = 11\n",
    "k = 21\n",
    "t = 15\n",
    "\n",
    "gm_order = get_gm_minimizer_dna_lex_extended(w,t,k)\n",
    "random_density_function_dna(w,k, gm_order, 100000, 1)"
   ]
  },
  {
   "cell_type": "markdown",
   "metadata": {},
   "source": [
    "Minimap1/2 / MetaProb2"
   ]
  },
  {
   "cell_type": "code",
   "execution_count": 4,
   "metadata": {},
   "outputs": [
    {
     "data": {
      "text/plain": [
       "0.13574877826099566"
      ]
     },
     "execution_count": 4,
     "metadata": {},
     "output_type": "execute_result"
    }
   ],
   "source": [
    "w = 10\n",
    "k = 15\n",
    "gm_order = get_gm_minimizer_dna_lex(w, k)\n",
    "random_density_function_dna(w, k, gm_order, 1000000)"
   ]
  },
  {
   "cell_type": "markdown",
   "metadata": {},
   "source": [
    "Giraffe"
   ]
  },
  {
   "cell_type": "code",
   "execution_count": 5,
   "metadata": {},
   "outputs": [
    {
     "data": {
      "text/plain": [
       "0.12513748625137486"
      ]
     },
     "execution_count": 5,
     "metadata": {},
     "output_type": "execute_result"
    }
   ],
   "source": [
    "w = 11\n",
    "k = 29\n",
    "t = 15\n",
    "\n",
    "gm_order = get_gm_minimizer_dna_lex_extended(w,t,k)\n",
    "random_density_function_dna(w,k, gm_order, 100000, 1)"
   ]
  },
  {
   "cell_type": "markdown",
   "metadata": {},
   "source": [
    "GraphAligner"
   ]
  },
  {
   "cell_type": "code",
   "execution_count": 7,
   "metadata": {},
   "outputs": [
    {
     "data": {
      "text/plain": [
       "0.05788321386797829"
      ]
     },
     "execution_count": 7,
     "metadata": {},
     "output_type": "execute_result"
    }
   ],
   "source": [
    "previous_w = 15\n",
    "w = 30\n",
    "k = 19\n",
    "t = 15\n",
    "\n",
    "gm_order = get_gm_minimizer_dna_lex_extended(previous_w,t,k)\n",
    "random_density_function_dna(w,k, gm_order, 100000, 1)"
   ]
  }
 ],
 "metadata": {
  "kernelspec": {
   "display_name": "Python 3",
   "language": "python",
   "name": "python3"
  },
  "language_info": {
   "codemirror_mode": {
    "name": "ipython",
    "version": 3
   },
   "file_extension": ".py",
   "mimetype": "text/x-python",
   "name": "python",
   "nbconvert_exporter": "python",
   "pygments_lexer": "ipython3",
   "version": "3.11.4"
  }
 },
 "nbformat": 4,
 "nbformat_minor": 2
}
