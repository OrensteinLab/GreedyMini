{
 "cells": [
  {
   "cell_type": "code",
   "execution_count": 1,
   "metadata": {},
   "outputs": [],
   "source": [
    "import math\n",
    "import random\n",
    "\n",
    "### GreedyE ###\n",
    "\n",
    "def nextblock(num,w,k,kmer): #auxiliary#    first int>=num such that its bitstring of len w+k contains bitstring of kmer\n",
    "    pos = 2**(w+k)\n",
    "    mask = 2**k-1\n",
    "    depth = w+k\n",
    "    for i in range(w+1):\n",
    "        cur = (num>>(w-i)) & mask\n",
    "        if cur < kmer:\n",
    "            temp = ((num>>(w-i)) + kmer - cur)<<(w-i)\n",
    "        elif cur > kmer:\n",
    "            temp = ((num>>(w-i)) + kmer + 2**k - cur)<<(w-i)\n",
    "        else:\n",
    "            return num, i\n",
    "        if temp < pos:\n",
    "            pos = temp\n",
    "            depth = i\n",
    "    return pos, depth\n",
    "\n",
    "def initdfs(kmer,kmers,lev,w,k): #auxiliary#    recursively compute initial values of global arrays nongc[] and gc[]\n",
    "    flag = kmer not in kmers\n",
    "    if lev == w:\n",
    "        if flag:\n",
    "            gc[kmer] += 1\n",
    "    else:\n",
    "        if flag:\n",
    "            nongc[kmer] += 2**(w-lev)\n",
    "            kmers.add(kmer)\n",
    "        nextkmer = (kmer<<1) & (2**k-1)\n",
    "        initdfs(nextkmer,kmers,lev+1,w,k)\n",
    "        initdfs(nextkmer+1,kmers,lev+1,w,k)\n",
    "        if flag:\n",
    "            kmers.remove(kmer)\n",
    "\n",
    "def rightdfs(kmer,kmers,lev,w,k): #auxiliary#   recursively process a block of occurrences of kmer \n",
    "    if nongc[kmer] == 0 and gc[kmer] == 0: # kmer has earlier assigned rank, or current rank, but all unprocessed windows are dead\n",
    "        return 0\n",
    "    else:\n",
    "        flag = kmer not in kmers\n",
    "        if lev == w:\n",
    "            gc[kmer] -= flag\n",
    "            return 1\n",
    "        else:\n",
    "            if flag:\n",
    "                kmers.add(kmer)\n",
    "            nextkmer = (kmer<<1) & (2**k-1)\n",
    "            sub = rightdfs(nextkmer,kmers,lev+1,w,k) + rightdfs(nextkmer+1,kmers,lev+1,w,k)\n",
    "            if flag:\n",
    "                if lev>0:\n",
    "                    nongc[kmer] -= sub\n",
    "                else:\n",
    "                    gc[kmer] -= sub\n",
    "                kmers.remove(kmer)\n",
    "            return sub\n",
    "          \n",
    "def randcand(k,err): #auxiliary#    choose a random k-mer with best nongc/gc ratio up to multiplicative err\n",
    "    best_ratio = -1\n",
    "    for i in range(2**k):\n",
    "        if gc[i]==0:\n",
    "            if nongc[i]>0:\n",
    "                return i\n",
    "        else:\n",
    "            best_ratio = max(nongc[i]/gc[i], best_ratio)\n",
    "    if best_ratio>=0:\n",
    "        candidates = [i for i in range(2**k) if gc[i]>0 and nongc[i] >= gc[i]*best_ratio*err]\n",
    "        return random.choice(candidates)\n",
    "    else:\n",
    "        return 2**k\n",
    "        \n",
    "def ecogreed(w,k,err): #greedy choice of a good 2ary order in small space\n",
    "    # calls initdfs, randcand, nextblock(many), rightdfs(many)\n",
    "    global gc, nongc\n",
    "    mask = 2**k-1\n",
    "    gc = [0 for i in range(2**k)]\n",
    "    nongc = [0 for i in range(2**k)]\n",
    "    ans = [2**k for i in range(2**k)]\n",
    "    for pref in range(2**k): #fill the arrays gc and nongc\n",
    "        gc[pref] += 2**w\n",
    "        kmers = {pref}\n",
    "        k1 = (pref<<1) & mask\n",
    "        initdfs(k1, kmers,1,w,k)\n",
    "        initdfs(k1+1, kmers,1,w,k)\n",
    "    gc_count = 0\n",
    "    nextbest = randcand(k,err) #choice of the rank0 kmer\n",
    "    rank = 0\n",
    "    while nextbest < 2**k: #main cycle (updating gc and nongc by processing windows with nextbest\n",
    "        gc_count += gc[nextbest]\n",
    "        ans[nextbest] = rank\n",
    "        block, dep = nextblock(0,w,k,nextbest) #first block of occurrences of nextbest\n",
    "        while block < 2**(w+k): #internal loop over the blocks of occurrences of nextbest\n",
    "            kmers = set()\n",
    "            skip = False\n",
    "            for i in range(dep): # processing left kmers of nextbest\n",
    "                leftkmer = (block>>(w-i)) & mask\n",
    "                skip = (ans[leftkmer]<rank)\n",
    "                if skip: # smaller kmer found, block consists of dead windows\n",
    "                    block,dep = nextblock(((block>>(w-i)) + 1)<<(w-i),w,k,nextbest) # increase leftkmer by 1 and find next block after\n",
    "                    break\n",
    "                else:\n",
    "                    kmers.add(leftkmer)\n",
    "            if not skip: # processing right kmers of nextbest\n",
    "                subt = rightdfs(nextbest, kmers, dep, w, k)\n",
    "                if kmers:\n",
    "                    pref = block>>w\n",
    "                    gc[pref] -= subt\n",
    "                    kmers.remove(pref)\n",
    "                    for km in kmers:\n",
    "                        nongc[km] -= subt\n",
    "                block, dep = nextblock(block+2**(w-dep),w,k,nextbest) # finding next block\n",
    "        nextbest = randcand(k,err)\n",
    "        rank += 1\n",
    "    return ans, gc_count, rank"
   ]
  },
  {
   "cell_type": "code",
   "execution_count": 2,
   "metadata": {},
   "outputs": [],
   "source": [
    "n_results = 1000"
   ]
  },
  {
   "cell_type": "code",
   "execution_count": 3,
   "metadata": {},
   "outputs": [
    {
     "ename": "KeyboardInterrupt",
     "evalue": "",
     "output_type": "error",
     "traceback": [
      "\u001b[1;31m---------------------------------------------------------------------------\u001b[0m",
      "\u001b[1;31mKeyboardInterrupt\u001b[0m                         Traceback (most recent call last)",
      "Cell \u001b[1;32mIn[3], line 6\u001b[0m\n\u001b[0;32m      3\u001b[0m results \u001b[38;5;241m=\u001b[39m []\n\u001b[0;32m      5\u001b[0m \u001b[38;5;28;01mfor\u001b[39;00m _ \u001b[38;5;129;01min\u001b[39;00m \u001b[38;5;28mrange\u001b[39m(n_results):\n\u001b[1;32m----> 6\u001b[0m     results\u001b[38;5;241m.\u001b[39mappend(\u001b[43mecogreed\u001b[49m\u001b[43m(\u001b[49m\u001b[43mw\u001b[49m\u001b[43m,\u001b[49m\u001b[43mk\u001b[49m\u001b[43m,\u001b[49m\u001b[38;5;241;43m0.995\u001b[39;49m\u001b[43m)\u001b[49m[\u001b[38;5;241m2\u001b[39m])\n\u001b[0;32m      9\u001b[0m \u001b[38;5;66;03m# save to file using w and k as filename\u001b[39;00m\n\u001b[0;32m     10\u001b[0m \u001b[38;5;28;01mwith\u001b[39;00m \u001b[38;5;28mopen\u001b[39m(\u001b[38;5;124mf\u001b[39m\u001b[38;5;124m'\u001b[39m\u001b[38;5;132;01m{\u001b[39;00mw\u001b[38;5;132;01m}\u001b[39;00m\u001b[38;5;124m_\u001b[39m\u001b[38;5;132;01m{\u001b[39;00mk\u001b[38;5;132;01m}\u001b[39;00m\u001b[38;5;124m.txt\u001b[39m\u001b[38;5;124m'\u001b[39m, \u001b[38;5;124m'\u001b[39m\u001b[38;5;124mw\u001b[39m\u001b[38;5;124m'\u001b[39m) \u001b[38;5;28;01mas\u001b[39;00m f:\n",
      "Cell \u001b[1;32mIn[1], line 103\u001b[0m, in \u001b[0;36mecogreed\u001b[1;34m(w, k, err)\u001b[0m\n\u001b[0;32m    101\u001b[0m         \u001b[38;5;28;01mbreak\u001b[39;00m\n\u001b[0;32m    102\u001b[0m     \u001b[38;5;28;01melse\u001b[39;00m:\n\u001b[1;32m--> 103\u001b[0m         kmers\u001b[38;5;241m.\u001b[39madd(leftkmer)\n\u001b[0;32m    104\u001b[0m \u001b[38;5;28;01mif\u001b[39;00m \u001b[38;5;129;01mnot\u001b[39;00m skip: \u001b[38;5;66;03m# processing right kmers of nextbest\u001b[39;00m\n\u001b[0;32m    105\u001b[0m     subt \u001b[38;5;241m=\u001b[39m rightdfs(nextbest, kmers, dep, w, k)\n",
      "\u001b[1;31mKeyboardInterrupt\u001b[0m: "
     ]
    }
   ],
   "source": [
    "w=8\n",
    "k=13\n",
    "results = []\n",
    "\n",
    "for _ in range(n_results):\n",
    "    results.append(ecogreed(w,k,0.995)[2])\n",
    "\n",
    "\n",
    "# save to file using w and k as filename\n",
    "with open(f'{w}_{k}.txt', 'w') as f:\n",
    "    for item in results:\n",
    "        f.write(\"%s\\n\" % item)"
   ]
  },
  {
   "cell_type": "code",
   "execution_count": null,
   "metadata": {},
   "outputs": [],
   "source": [
    "w= 13\n",
    "k=8\n",
    "results = []\n",
    "\n",
    "for _ in range(n_results):\n",
    "    results.append(ecogreed(w,k,0.995)[2])\n",
    "\n",
    "# save to file using w and k as filename\n",
    "with open(f'{w}_{k}.txt', 'w') as f:\n",
    "    for item in results:\n",
    "        f.write(\"%s\\n\" % item)"
   ]
  },
  {
   "cell_type": "code",
   "execution_count": 13,
   "metadata": {},
   "outputs": [
    {
     "data": {
      "image/png": "[encoded data removed]",
      "text/plain": [
       "<Figure size 800x600 with 1 Axes>"
      ]
     },
     "metadata": {},
     "output_type": "display_data"
    },
    {
     "name": "stdout",
     "output_type": "stream",
     "text": [
      "Average: 3.2618590087890627\n",
      "STD: 0.18010151389727033\n"
     ]
    }
   ],
   "source": [
    "import numpy as np\n",
    "import matplotlib.pyplot as plt\n",
    "\n",
    "w = 8\n",
    "k = 13\n",
    "\n",
    "# Load results\n",
    "with open(f'{w}_{k}.txt') as f:\n",
    "    results = f.readlines()\n",
    "    results = [int(x.strip()) for x in results]\n",
    "\n",
    "# Normalize\n",
    "normalized_results = [x / (2**k / k) for x in results]\n",
    "\n",
    "# Define finer bins\n",
    "bin_width = 0.05\n",
    "bins = np.arange(min(normalized_results), max(normalized_results) + bin_width, bin_width)\n",
    "plt.figure(figsize=(8, 6))\n",
    "# Plot histogram\n",
    "plt.hist(normalized_results, bins=bins, alpha=0.75, edgecolor='black', linewidth=1.2)\n",
    "plt.xlabel(r\"UHS size $\\times k/2^k$\", fontsize=16)\n",
    "\n",
    "plt.ylabel(\"Count\", fontsize=16)\n",
    "plt.xticks(fontsize=14)\n",
    "plt.yticks(fontsize=14)\n",
    "plt.savefig(f'hist_{w}_{k}.svg')\n",
    "#plt.title('Histogram of number of ranks for w = {} and k = {}'.format(w, k))\n",
    "plt.show()\n",
    "\n",
    "\n",
    "# print the average and STD\n",
    "print(f'Average: {np.mean(normalized_results)}')\n",
    "print(f'STD: {np.std(normalized_results)}')\n"
   ]
  },
  {
   "cell_type": "code",
   "execution_count": 14,
   "metadata": {},
   "outputs": [
    {
     "data": {
      "image/png": "[encoded data removed]",
      "text/plain": [
       "<Figure size 800x600 with 1 Axes>"
      ]
     },
     "metadata": {},
     "output_type": "display_data"
    },
    {
     "name": "stdout",
     "output_type": "stream",
     "text": [
      "Average: 2.13784375\n",
      "STD: 0.1748606560191214\n"
     ]
    }
   ],
   "source": [
    "import numpy as np\n",
    "import matplotlib.pyplot as plt\n",
    "\n",
    "w = 13\n",
    "k = 8\n",
    "\n",
    "# Load results\n",
    "with open(f'{w}_{k}.txt') as f:\n",
    "    results = f.readlines()\n",
    "    results = [int(x.strip()) for x in results]\n",
    "\n",
    "# Normalize\n",
    "normalized_results = [x / (2**k / k) for x in results]\n",
    "\n",
    "# Define finer bins\n",
    "bin_width = 0.05\n",
    "bins = np.arange(min(normalized_results), max(normalized_results) + bin_width, bin_width)\n",
    "\n",
    "# Plot histogram\n",
    "plt.figure(figsize=(8, 6))\n",
    "plt.hist(normalized_results, bins=bins, alpha=0.75, edgecolor='black', linewidth=1.2)\n",
    "plt.xlabel(r\"UHS size $\\times k/2^k$\", fontsize=16)\n",
    "\n",
    "plt.xticks(fontsize=14)\n",
    "plt.yticks(fontsize=14)\n",
    "#plt.title('Histogram of number of ranks for w = {}, k = {}'.format(w, k))\n",
    "plt.savefig(f'hist_{w}_{k}.svg')\n",
    "plt.show()\n",
    "\n",
    "print(f'Average: {np.mean(normalized_results)}')\n",
    "print(f'STD: {np.std(normalized_results)}')"
   ]
  }
 ],
 "metadata": {
  "kernelspec": {
   "display_name": "Python 3",
   "language": "python",
   "name": "python3"
  },
  "language_info": {
   "codemirror_mode": {
    "name": "ipython",
    "version": 3
   },
   "file_extension": ".py",
   "mimetype": "text/x-python",
   "name": "python",
   "nbconvert_exporter": "python",
   "pygments_lexer": "ipython3",
   "version": "3.11.4"
  }
 },
 "nbformat": 4,
 "nbformat_minor": 2
}
