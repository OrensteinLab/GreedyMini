{
 "cells": [
  {
   "cell_type": "code",
   "execution_count": 1,
   "metadata": {},
   "outputs": [
    {
     "name": "stdout",
     "output_type": "stream",
     "text": [
      "['w10_k10.bin', 'w10_k11.bin', 'w10_k12.bin', 'w10_k13.bin', 'w10_k14.bin', 'w10_k15.bin', 'w10_k3.bin', 'w10_k4.bin', 'w10_k5.bin', 'w10_k6.bin', 'w10_k7.bin', 'w10_k8.bin', 'w10_k9.bin', 'w11_k10.bin', 'w11_k11.bin', 'w11_k12.bin', 'w11_k13.bin', 'w11_k14.bin', 'w11_k15.bin', 'w11_k3.bin', 'w11_k4.bin', 'w11_k5.bin', 'w11_k6.bin', 'w11_k7.bin', 'w11_k8.bin', 'w11_k9.bin', 'w12_k10.bin', 'w12_k11.bin', 'w12_k12.bin', 'w12_k13.bin', 'w12_k14.bin', 'w12_k15.bin', 'w12_k16.bin', 'w12_k3.bin', 'w12_k4.bin', 'w12_k5.bin', 'w12_k6.bin', 'w12_k7.bin', 'w12_k8.bin', 'w12_k9.bin', 'w13_k10.bin', 'w13_k11.bin', 'w13_k12.bin', 'w13_k13.bin', 'w13_k14.bin', 'w13_k15.bin', 'w13_k3.bin', 'w13_k4.bin', 'w13_k5.bin', 'w13_k6.bin', 'w13_k7.bin', 'w13_k8.bin', 'w13_k9.bin', 'w14_k10.bin', 'w14_k11.bin', 'w14_k12.bin', 'w14_k13.bin', 'w14_k14.bin', 'w14_k15.bin', 'w14_k3.bin', 'w14_k4.bin', 'w14_k5.bin', 'w14_k6.bin', 'w14_k7.bin', 'w14_k8.bin', 'w14_k9.bin', 'w15_k10.bin', 'w15_k11.bin', 'w15_k12.bin', 'w15_k13.bin', 'w15_k14.bin', 'w15_k15.bin', 'w15_k3.bin', 'w15_k4.bin', 'w15_k5.bin', 'w15_k6.bin', 'w15_k7.bin', 'w15_k8.bin', 'w15_k9.bin', 'w16_k12.bin', 'w16_k8.bin', 'w16_k9.bin', 'w17_k15.bin', 'w17_k8.bin', 'w18_k8.bin', 'w19_k8.bin', 'w2_k10.bin', 'w2_k11.bin', 'w2_k12.bin', 'w2_k13.bin', 'w2_k2.bin', 'w2_k3.bin', 'w2_k4.bin', 'w2_k5.bin', 'w2_k6.bin', 'w2_k7.bin', 'w2_k8.bin', 'w2_k9.bin', 'w30_k12.bin', 'w30_k15.bin', 'w30_k15_old.bin', 'w3_k10.bin', 'w3_k11.bin', 'w3_k12.bin', 'w3_k13.bin', 'w3_k14.bin', 'w3_k15.bin', 'w3_k2.bin', 'w3_k3.bin', 'w3_k4.bin', 'w3_k5.bin', 'w3_k6.bin', 'w3_k7.bin', 'w3_k8.bin', 'w3_k9.bin', 'w4_k10.bin', 'w4_k11.bin', 'w4_k12.bin', 'w4_k13.bin', 'w4_k14.bin', 'w4_k15.bin', 'w4_k2.bin', 'w4_k3.bin', 'w4_k4.bin', 'w4_k5.bin', 'w4_k6.bin', 'w4_k7.bin', 'w4_k8.bin', 'w4_k9.bin', 'w5_k10.bin', 'w5_k11.bin', 'w5_k12.bin', 'w5_k13.bin', 'w5_k14.bin', 'w5_k15.bin', 'w5_k2.bin', 'w5_k3.bin', 'w5_k4.bin', 'w5_k5.bin', 'w5_k6.bin', 'w5_k7.bin', 'w5_k8.bin', 'w5_k9.bin', 'w6_k10.bin', 'w6_k11.bin', 'w6_k12.bin', 'w6_k13.bin', 'w6_k14.bin', 'w6_k15.bin', 'w6_k2.bin', 'w6_k3.bin', 'w6_k4.bin', 'w6_k5.bin', 'w6_k6.bin', 'w6_k7.bin', 'w6_k8.bin', 'w6_k9.bin', 'w7_k10.bin', 'w7_k11.bin', 'w7_k12.bin', 'w7_k13.bin', 'w7_k14.bin', 'w7_k15.bin', 'w7_k3.bin', 'w7_k4.bin', 'w7_k5.bin', 'w7_k6.bin', 'w7_k7.bin', 'w7_k8.bin', 'w7_k9.bin', 'w8_k10.bin', 'w8_k11.bin', 'w8_k12.bin', 'w8_k13.bin', 'w8_k14.bin', 'w8_k15.bin', 'w8_k16.bin', 'w8_k17.bin', 'w8_k3.bin', 'w8_k4.bin', 'w8_k5.bin', 'w8_k6.bin', 'w8_k7.bin', 'w8_k8.bin', 'w8_k9.bin', 'w9_k10.bin', 'w9_k11.bin', 'w9_k12.bin', 'w9_k13.bin', 'w9_k14.bin', 'w9_k15.bin', 'w9_k3.bin', 'w9_k4.bin', 'w9_k5.bin', 'w9_k6.bin', 'w9_k7.bin', 'w9_k8.bin', 'w9_k9.bin']\n"
     ]
    }
   ],
   "source": [
    "import os\n",
    "# get all the files in the folder \"gm orders\"\n",
    "\n",
    "files = os.listdir(\"gm orders\")\n",
    "\n",
    "# keep only the ones that end with bin\n",
    "\n",
    "bin_files = [f for f in files if f.endswith(\".bin\")]\n",
    "print(bin_files)"
   ]
  },
  {
   "cell_type": "code",
   "execution_count": 2,
   "metadata": {},
   "outputs": [],
   "source": [
    "import struct\n",
    "\n",
    "def load_vector_from_file(filename):\n",
    "    with open(filename, 'rb') as file:\n",
    "        # Read the size of the vector (stored as size_t in C++, which is platform-dependent)\n",
    "        size_data = file.read(struct.calcsize('P'))  \n",
    "        size = struct.unpack('P', size_data)[0]\n",
    "        \n",
    "        # Read the rest of the data as uint64_t values\n",
    "        vector_data = file.read(size * struct.calcsize('Q')) \n",
    "        vector = struct.unpack(f'{size}Q', vector_data)\n",
    "        \n",
    "        return list(vector)"
   ]
  },
  {
   "cell_type": "code",
   "execution_count": 3,
   "metadata": {},
   "outputs": [
    {
     "name": "stdout",
     "output_type": "stream",
     "text": [
      "[10, 11, 12, 13, 14, 15, 3, 4, 5, 6, 7, 8, 9, 10, 11, 12, 13, 14, 15, 3, 4, 5, 6, 7, 8, 9, 10, 11, 12, 13, 14, 15, 16, 3, 4, 5, 6, 7, 8, 9, 10, 11, 12, 13, 14, 15, 3, 4, 5, 6, 7, 8, 9, 10, 11, 12, 13, 14, 15, 3, 4, 5, 6, 7, 8, 9, 10, 11, 12, 13, 14, 15, 3, 4, 5, 6, 7, 8, 9, 12, 8, 9, 15, 8, 8, 8, 10, 11, 12, 13, 2, 3, 4, 5, 6, 7, 8, 9, 12, 15, 10, 11, 12, 13, 14, 15, 2, 3, 4, 5, 6, 7, 8, 9, 10, 11, 12, 13, 14, 15, 2, 3, 4, 5, 6, 7, 8, 9, 10, 11, 12, 13, 14, 15, 2, 3, 4, 5, 6, 7, 8, 9, 10, 11, 12, 13, 14, 15, 2, 3, 4, 5, 6, 7, 8, 9, 10, 11, 12, 13, 14, 15, 3, 4, 5, 6, 7, 8, 9, 10, 11, 12, 13, 14, 15, 16, 17, 3, 4, 5, 6, 7, 8, 9, 10, 11, 12, 13, 14, 15, 3, 4, 5, 6, 7, 8, 9]\n"
     ]
    }
   ],
   "source": [
    "# Load them\n",
    "\n",
    "vectors = []\n",
    "k_values = []\n",
    "\n",
    "# Process each file and skip invalid cases\n",
    "for f in bin_files:\n",
    "    try:\n",
    "        # Extract and convert k value to int\n",
    "        k = int(f.split(\"_k\")[1].split(\".\")[0])\n",
    "        # Load vector only if k is valid\n",
    "        vectors.append(load_vector_from_file(\"gm orders/\" + f))\n",
    "        k_values.append(k)\n",
    "    except (ValueError, IndexError):\n",
    "        # Skip this file if k is not an integer or format is invalid\n",
    "        continue\n",
    "\n",
    "print(k_values)\n"
   ]
  },
  {
   "cell_type": "code",
   "execution_count": 4,
   "metadata": {},
   "outputs": [
    {
     "name": "stdout",
     "output_type": "stream",
     "text": [
      "[306, 612, 842, 1585, 3170, 6340, 5, 7, 11, 20, 36, 77, 149, 242, 524, 852, 1548, 2958, 5886, 5, 7, 10, 21, 34, 82, 139, 243, 502, 1004, 1809, 2837, 6219, 12438, 5, 7, 15, 22, 36, 81, 140, 259, 513, 975, 1696, 3282, 6037, 5, 7, 14, 22, 38, 74, 145, 278, 504, 967, 1968, 3878, 7756, 5, 7, 16, 23, 33, 64, 126, 282, 516, 856, 1712, 3530, 7060, 5, 8, 14, 22, 36, 67, 124, 1008, 57, 123, 7087, 58, 59, 56, 547, 1095, 2197, 4315, 2, 5, 9, 18, 34, 68, 141, 271, 1008, 7087, 414, 822, 1562, 3196, 6299, 12384, 2, 4, 7, 14, 26, 55, 103, 200, 339, 653, 1284, 2650, 5099, 9997, 2, 4, 7, 13, 24, 48, 87, 178, 299, 598, 1114, 2244, 4488, 8976, 2, 4, 7, 12, 26, 45, 78, 153, 276, 552, 1104, 2208, 4102, 8204, 2, 4, 7, 13, 23, 40, 81, 135, 244, 524, 1048, 2096, 4192, 8384, 4, 7, 13, 23, 44, 72, 137, 331, 444, 1074, 2148, 4296, 8592, 17184, 34368, 5, 7, 10, 21, 41, 79, 130, 225, 531, 830, 1779, 3558, 7116, 5, 7, 10, 19, 41, 79, 151]\n"
     ]
    }
   ],
   "source": [
    "def get_n_uhs(order,k):\n",
    "    default_value = 2**k\n",
    "    # check how many elements in the order are not the default value\n",
    "    n_uhs = sum([1 for x in order if x != default_value])\n",
    "    return n_uhs\n",
    "\n",
    "\n",
    "# Calculate the number of UHS for each order\n",
    "n_uhs = [get_n_uhs(vectors[i], k_values[i]) for i in range(len(vectors))]\n",
    "\n",
    "print(n_uhs)"
   ]
  },
  {
   "cell_type": "code",
   "execution_count": 5,
   "metadata": {},
   "outputs": [
    {
     "name": "stdout",
     "output_type": "stream",
     "text": [
      "[102.4, 186.1818181818182, 341.3333333333333, 630.1538461538462, 1170.2857142857142, 2184.5333333333333, 2.6666666666666665, 4.0, 6.4, 10.666666666666666, 18.285714285714285, 32.0, 56.888888888888886, 102.4, 186.1818181818182, 341.3333333333333, 630.1538461538462, 1170.2857142857142, 2184.5333333333333, 2.6666666666666665, 4.0, 6.4, 10.666666666666666, 18.285714285714285, 32.0, 56.888888888888886, 102.4, 186.1818181818182, 341.3333333333333, 630.1538461538462, 1170.2857142857142, 2184.5333333333333, 4096.0, 2.6666666666666665, 4.0, 6.4, 10.666666666666666, 18.285714285714285, 32.0, 56.888888888888886, 102.4, 186.1818181818182, 341.3333333333333, 630.1538461538462, 1170.2857142857142, 2184.5333333333333, 2.6666666666666665, 4.0, 6.4, 10.666666666666666, 18.285714285714285, 32.0, 56.888888888888886, 102.4, 186.1818181818182, 341.3333333333333, 630.1538461538462, 1170.2857142857142, 2184.5333333333333, 2.6666666666666665, 4.0, 6.4, 10.666666666666666, 18.285714285714285, 32.0, 56.888888888888886, 102.4, 186.1818181818182, 341.3333333333333, 630.1538461538462, 1170.2857142857142, 2184.5333333333333, 2.6666666666666665, 4.0, 6.4, 10.666666666666666, 18.285714285714285, 32.0, 56.888888888888886, 341.3333333333333, 32.0, 56.888888888888886, 2184.5333333333333, 32.0, 32.0, 32.0, 102.4, 186.1818181818182, 341.3333333333333, 630.1538461538462, 2.0, 2.6666666666666665, 4.0, 6.4, 10.666666666666666, 18.285714285714285, 32.0, 56.888888888888886, 341.3333333333333, 2184.5333333333333, 102.4, 186.1818181818182, 341.3333333333333, 630.1538461538462, 1170.2857142857142, 2184.5333333333333, 2.0, 2.6666666666666665, 4.0, 6.4, 10.666666666666666, 18.285714285714285, 32.0, 56.888888888888886, 102.4, 186.1818181818182, 341.3333333333333, 630.1538461538462, 1170.2857142857142, 2184.5333333333333, 2.0, 2.6666666666666665, 4.0, 6.4, 10.666666666666666, 18.285714285714285, 32.0, 56.888888888888886, 102.4, 186.1818181818182, 341.3333333333333, 630.1538461538462, 1170.2857142857142, 2184.5333333333333, 2.0, 2.6666666666666665, 4.0, 6.4, 10.666666666666666, 18.285714285714285, 32.0, 56.888888888888886, 102.4, 186.1818181818182, 341.3333333333333, 630.1538461538462, 1170.2857142857142, 2184.5333333333333, 2.0, 2.6666666666666665, 4.0, 6.4, 10.666666666666666, 18.285714285714285, 32.0, 56.888888888888886, 102.4, 186.1818181818182, 341.3333333333333, 630.1538461538462, 1170.2857142857142, 2184.5333333333333, 2.6666666666666665, 4.0, 6.4, 10.666666666666666, 18.285714285714285, 32.0, 56.888888888888886, 102.4, 186.1818181818182, 341.3333333333333, 630.1538461538462, 1170.2857142857142, 2184.5333333333333, 4096.0, 7710.117647058823, 2.6666666666666665, 4.0, 6.4, 10.666666666666666, 18.285714285714285, 32.0, 56.888888888888886, 102.4, 186.1818181818182, 341.3333333333333, 630.1538461538462, 1170.2857142857142, 2184.5333333333333, 2.6666666666666665, 4.0, 6.4, 10.666666666666666, 18.285714285714285, 32.0, 56.888888888888886]\n"
     ]
    }
   ],
   "source": [
    "# for each order calculate 2^k/k\n",
    "reference_points = [2**k/k for k in k_values]\n",
    "print(reference_points)"
   ]
  },
  {
   "cell_type": "code",
   "execution_count": 6,
   "metadata": {},
   "outputs": [
    {
     "name": "stdout",
     "output_type": "stream",
     "text": [
      "[True, False, True, True, True, True, True, True, True, True, True, True, True, True, True, True, True, True, True, True, True, True, True, True, True, True, True, True, True, True, True, True, False, True, True, True, True, True, True, True, True, True, True, True, True, True, True, True, True, True, True, True, True, True, True, True, False, False, False, True, True, True, True, True, True, True, True, True, True, True, False, False, True, True, True, True, True, True, True, True, True, True, False, True, True, True, False, False, False, False, True, True, True, True, False, False, False, False, True, False, False, False, False, False, False, False, True, True, True, True, True, False, False, False, False, False, False, False, False, False, True, True, True, True, True, True, True, False, True, False, False, False, False, False, True, True, True, True, True, True, True, True, True, True, False, False, False, False, True, True, True, True, True, True, True, True, True, True, False, False, False, False, True, True, True, True, True, True, True, False, True, False, False, False, False, False, False, True, True, True, True, True, True, True, True, True, True, True, False, False, True, True, True, True, True, True, True]\n",
      "72.08121827411168\n"
     ]
    }
   ],
   "source": [
    "# check which orders are below 3 times the reference point\n",
    "below_reference = [n_uhs[i] < 3*reference_points[i] for i in range(len(n_uhs))]\n",
    "print(below_reference)\n",
    "\n",
    "# print %\n",
    "print(sum(below_reference)/len(below_reference)*100)\n"
   ]
  },
  {
   "cell_type": "code",
   "execution_count": 7,
   "metadata": {},
   "outputs": [
    {
     "name": "stdout",
     "output_type": "stream",
     "text": [
      "90.86294416243655\n"
     ]
    }
   ],
   "source": [
    "# check with 4*reference point\n",
    "\n",
    "below_reference = [n_uhs[i] < 4*reference_points[i] for i in range(len(n_uhs))]\n",
    "print(sum(below_reference)/len(below_reference)*100)"
   ]
  },
  {
   "cell_type": "code",
   "execution_count": 31,
   "metadata": {},
   "outputs": [
    {
     "data": {
      "image/png": "[encoded data removed]",
      "text/plain": [
       "<Figure size 1600x600 with 1 Axes>"
      ]
     },
     "metadata": {},
     "output_type": "display_data"
    }
   ],
   "source": [
    "import matplotlib.pyplot as plt\n",
    "\n",
    "# Normalize UHS sizes\n",
    "normalized_uhs = [n_uhs[i] / reference_points[i] for i in range(len(n_uhs))]\n",
    "\n",
    "# Create the histogram\n",
    "plt.figure(figsize=(16, 6))\n",
    "plt.hist(normalized_uhs, bins=20, edgecolor='black', alpha=0.7)\n",
    "plt.xlabel(r\"UHS size $\\times k/2^k$\", fontsize=16)\n",
    "\n",
    "plt.ylabel(\"Count\", fontsize=16)\n",
    "plt.xticks(fontsize=14)\n",
    "plt.yticks(fontsize=14)\n",
    "#plt.grid(axis='y', linestyle='--', alpha=0.7)\n",
    "\n",
    "\n",
    "#plt.savefig(\"histogram.pdf\")\n",
    "plt.savefig(\"histogram.svg\")\n",
    "\n",
    "\n",
    "plt.show()\n"
   ]
  },
  {
   "cell_type": "code",
   "execution_count": 9,
   "metadata": {},
   "outputs": [
    {
     "name": "stdout",
     "output_type": "stream",
     "text": [
      "2.679154449307979\n"
     ]
    }
   ],
   "source": [
    "# get the average of the normalized uhs\n",
    "average = sum(normalized_uhs)/len(normalized_uhs)\n",
    "print(average)"
   ]
  },
  {
   "cell_type": "code",
   "execution_count": 10,
   "metadata": {},
   "outputs": [
    {
     "name": "stdout",
     "output_type": "stream",
     "text": [
      "90.86294416243655\n"
     ]
    }
   ],
   "source": [
    "# check how many of the normalized uhs are below 3\n",
    "below_reference = [uhs < 4 for uhs in normalized_uhs]\n",
    "print(sum(below_reference)/len(below_reference)*100)\n"
   ]
  }
 ],
 "metadata": {
  "kernelspec": {
   "display_name": "Python 3",
   "language": "python",
   "name": "python3"
  },
  "language_info": {
   "codemirror_mode": {
    "name": "ipython",
    "version": 3
   },
   "file_extension": ".py",
   "mimetype": "text/x-python",
   "name": "python",
   "nbconvert_exporter": "python",
   "pygments_lexer": "ipython3",
   "version": "3.11.4"
  }
 },
 "nbformat": 4,
 "nbformat_minor": 2
}
