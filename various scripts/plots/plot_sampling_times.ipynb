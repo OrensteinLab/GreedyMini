{
 "cells": [
  {
   "cell_type": "code",
   "execution_count": 1,
   "metadata": {},
   "outputs": [],
   "source": [
    "import pandas as pd\n",
    "\n",
    "\n",
    "csv_file_path = 'sampling_runtime.csv'"
   ]
  },
  {
   "cell_type": "code",
   "execution_count": 2,
   "metadata": {},
   "outputs": [
    {
     "data": {
      "text/html": [
       "<div>\n",
       "<style scoped>\n",
       "    .dataframe tbody tr th:only-of-type {\n",
       "        vertical-align: middle;\n",
       "    }\n",
       "\n",
       "    .dataframe tbody tr th {\n",
       "        vertical-align: top;\n",
       "    }\n",
       "\n",
       "    .dataframe thead th {\n",
       "        text-align: right;\n",
       "    }\n",
       "</style>\n",
       "<table border=\"1\" class=\"dataframe\">\n",
       "  <thead>\n",
       "    <tr style=\"text-align: right;\">\n",
       "      <th></th>\n",
       "      <th>k</th>\n",
       "      <th>time_random</th>\n",
       "      <th>time_gm_no_mem</th>\n",
       "      <th>time_gm</th>\n",
       "    </tr>\n",
       "  </thead>\n",
       "  <tbody>\n",
       "    <tr>\n",
       "      <th>0</th>\n",
       "      <td>3</td>\n",
       "      <td>3814.26</td>\n",
       "      <td>3623.12</td>\n",
       "      <td>3867.13</td>\n",
       "    </tr>\n",
       "    <tr>\n",
       "      <th>1</th>\n",
       "      <td>4</td>\n",
       "      <td>3834.82</td>\n",
       "      <td>3595.81</td>\n",
       "      <td>3865.38</td>\n",
       "    </tr>\n",
       "    <tr>\n",
       "      <th>2</th>\n",
       "      <td>5</td>\n",
       "      <td>3797.33</td>\n",
       "      <td>3613.03</td>\n",
       "      <td>3864.87</td>\n",
       "    </tr>\n",
       "    <tr>\n",
       "      <th>3</th>\n",
       "      <td>6</td>\n",
       "      <td>3826.33</td>\n",
       "      <td>3640.37</td>\n",
       "      <td>3857.54</td>\n",
       "    </tr>\n",
       "    <tr>\n",
       "      <th>4</th>\n",
       "      <td>7</td>\n",
       "      <td>3844.76</td>\n",
       "      <td>3601.76</td>\n",
       "      <td>3856.00</td>\n",
       "    </tr>\n",
       "  </tbody>\n",
       "</table>\n",
       "</div>"
      ],
      "text/plain": [
       "   k  time_random  time_gm_no_mem  time_gm\n",
       "0  3      3814.26         3623.12  3867.13\n",
       "1  4      3834.82         3595.81  3865.38\n",
       "2  5      3797.33         3613.03  3864.87\n",
       "3  6      3826.33         3640.37  3857.54\n",
       "4  7      3844.76         3601.76  3856.00"
      ]
     },
     "execution_count": 2,
     "metadata": {},
     "output_type": "execute_result"
    }
   ],
   "source": [
    "df =  pd.read_csv(csv_file_path)\n",
    "df.head()"
   ]
  },
  {
   "cell_type": "code",
   "execution_count": 3,
   "metadata": {},
   "outputs": [],
   "source": [
    "import matplotlib.pyplot as plt\n",
    "import numpy as np\n",
    "\n",
    "\n",
    "# Selecting columns for the bar plot\n",
    "columns_of_interest = [\"k\", \"time_random\", \"time_gm\"]\n",
    "\n",
    "# rename time_random to random\n",
    "df = df.rename(columns={\"time_random\": \"Random\"})\n",
    "\n",
    "# rename time_gm to GreedyMini+\n",
    "df = df.rename(columns={\"time_gm\": \"GreedyMini+\"})\n",
    "\n",
    "renamed_columns = [\"k\", \"Random\", \"GreedyMini+\"]\n",
    "\n",
    "# make all values devided by 1000 on Random and GreedyMini+ columns\n",
    "df[\"Random\"] = df[\"Random\"] / 1000\n",
    "df[\"GreedyMini+\"] = df[\"GreedyMini+\"] / 1000"
   ]
  },
  {
   "cell_type": "code",
   "execution_count": 4,
   "metadata": {},
   "outputs": [],
   "source": [
    "# set 'k' as the index\n",
    "df.set_index('k', inplace=True)\n",
    "\n",
    "\n"
   ]
  },
  {
   "cell_type": "code",
   "execution_count": 7,
   "metadata": {},
   "outputs": [
    {
     "data": {
      "image/png": "[encoded data removed]",
      "text/plain": [
       "<Figure size 640x480 with 1 Axes>"
      ]
     },
     "metadata": {},
     "output_type": "display_data"
    }
   ],
   "source": [
    "# plot the data as curves\n",
    "df[renamed_columns[1:]].plot(kind='line')\n",
    "plt.ylabel('Time (s)')\n",
    "plt.xlabel('k')\n",
    "\n",
    "plt.tight_layout()\n",
    "plt.savefig('sampling_runtime.pdf')\n",
    "plt.show()"
   ]
  }
 ],
 "metadata": {
  "kernelspec": {
   "display_name": "Python 3",
   "language": "python",
   "name": "python3"
  },
  "language_info": {
   "codemirror_mode": {
    "name": "ipython",
    "version": 3
   },
   "file_extension": ".py",
   "mimetype": "text/x-python",
   "name": "python",
   "nbconvert_exporter": "python",
   "pygments_lexer": "ipython3",
   "version": "3.11.4"
  }
 },
 "nbformat": 4,
 "nbformat_minor": 2
}
