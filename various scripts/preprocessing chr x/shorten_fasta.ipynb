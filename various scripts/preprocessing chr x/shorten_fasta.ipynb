{
 "cells": [
  {
   "cell_type": "code",
   "execution_count": 1,
   "metadata": {},
   "outputs": [],
   "source": [
    "import pandas as pd\n",
    "from Bio import SeqIO\n",
    "import os"
   ]
  },
  {
   "cell_type": "code",
   "execution_count": 2,
   "metadata": {},
   "outputs": [],
   "source": [
    "def read_chromosome_sequence(fna_file, chromosome_id):\n",
    "    # Parse the .fna file using SeqIO\n",
    "    for record in SeqIO.parse(fna_file, \"fasta\"):\n",
    "        # Check if the chromosome ID is in the record description\n",
    "        if chromosome_id in record.description:\n",
    "            print(f\"Found chromosome: {record.description}\")\n",
    "            return str(record.seq)\n",
    "    # Return None if the chromosome is not found\n",
    "    return None\n",
    "\n",
    "def save_as_fasta(sequence, filename):\n",
    "    with open(filename, 'w') as f:\n",
    "        f.write(f'>chr_x_seq\\n{sequence}')\n",
    "\n"
   ]
  },
  {
   "cell_type": "code",
   "execution_count": 3,
   "metadata": {},
   "outputs": [],
   "source": [
    "FILE_PATH = 'GCA_009914755.4_T2T-CHM13v2.0_genomic.fna' # Change this to the path of the .fna file\n",
    "chromosome_id = \"chromosome X\"   # Here we extract the sequence of chromosome X out of the .fna file\n"
   ]
  },
  {
   "cell_type": "code",
   "execution_count": 4,
   "metadata": {},
   "outputs": [
    {
     "name": "stdout",
     "output_type": "stream",
     "text": [
      "Found chromosome: CP068255.2 Homo sapiens isolate CHM13 chromosome X\n"
     ]
    }
   ],
   "source": [
    "# get the sequence of the chromosome - note that this can be done in other ways if your data is in a different format,\n",
    "# The only important thing is that at this stage the variable \"sequence\" contains a string representation of the sequence in uppercase ACGT\n",
    "sequence = read_chromosome_sequence(FILE_PATH, chromosome_id)\n",
    "sequence = sequence.upper()\n",
    "sequence = sequence[0:1000000]"
   ]
  },
  {
   "cell_type": "code",
   "execution_count": 5,
   "metadata": {},
   "outputs": [],
   "source": [
    "save_as_fasta(sequence, 'chr_x_1m.fasta')\n"
   ]
  }
 ],
 "metadata": {
  "kernelspec": {
   "display_name": "Python 3",
   "language": "python",
   "name": "python3"
  },
  "language_info": {
   "codemirror_mode": {
    "name": "ipython",
    "version": 3
   },
   "file_extension": ".py",
   "mimetype": "text/x-python",
   "name": "python",
   "nbconvert_exporter": "python",
   "pygments_lexer": "ipython3",
   "version": "3.11.4"
  }
 },
 "nbformat": 4,
 "nbformat_minor": 2
}
